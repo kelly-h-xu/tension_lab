{
 "cells": [
  {
   "cell_type": "code",
   "execution_count": 1,
   "metadata": {},
   "outputs": [],
   "source": [
    "import pandas as pd\n",
    "import matplotlib as plt\n",
    "import numpy as np"
   ]
  },
  {
   "cell_type": "code",
   "execution_count": 2,
   "metadata": {},
   "outputs": [
    {
     "name": "stdout",
     "output_type": "stream",
     "text": [
      "[1254.91287878    3.40586487]\n"
     ]
    }
   ],
   "source": [
    "df = pd.read_table('TensionLab.txt', delim_whitespace=True)\n",
    "df = df.drop(columns=\"Displ(mm)\")\n",
    "df[\"Force(N)\"] = df[\"Force(N)\"].div(43)\n",
    "df = df.rename(columns={\"Force(N)\": \"Stress(N/mm^2)\"})\n",
    "polyfitdf = df[df['Strain(%)'] <= 0.3]\n",
    "x = polyfitdf['Strain(%)']\n",
    "y = polyfitdf['Stress(N/mm^2)']\n",
    "youngs = np.polyfit(x, y, 1)\n",
    "print(youngs)"
   ]
  }
 ],
 "metadata": {
  "kernelspec": {
   "display_name": "Python 3",
   "language": "python",
   "name": "python3"
  },
  "language_info": {
   "codemirror_mode": {
    "name": "ipython",
    "version": 3
   },
   "file_extension": ".py",
   "mimetype": "text/x-python",
   "name": "python",
   "nbconvert_exporter": "python",
   "pygments_lexer": "ipython3",
   "version": "3.9.6"
  }
 },
 "nbformat": 4,
 "nbformat_minor": 2
}
