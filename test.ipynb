{
 "cells": [
  {
   "cell_type": "code",
   "execution_count": 2,
   "metadata": {},
   "outputs": [],
   "source": [
    "import pandas as pd\n",
    "import matplotlib as plt\n",
    "import numpy as np"
   ]
  },
  {
   "cell_type": "code",
   "execution_count": 5,
   "metadata": {},
   "outputs": [
    {
     "name": "stdout",
     "output_type": "stream",
     "text": [
      "[1.68787156e+05 4.58092553e+00]\n"
     ]
    }
   ],
   "source": [
    "df = pd.read_table('TensionLab.txt', delim_whitespace=True)\n",
    "df = df.drop(columns=\"Displ(mm)\")\n",
    "df[\"Force(N)\"] = df[\"Force(N)\"].div(31.97)\n",
    "df[\"Strain(%)\"] = df[\"Strain(%)\"].div(100)\n",
    "df = df.rename(columns = {\"Force(N)\":\"Stress(MPa)\",\"Strain(%)\":\"Strain(fraction)\"})\n",
    "polyfitdf = df[df['Strain(fraction)'] <= 0.003]\n",
    "x = polyfitdf['Strain(fraction)']\n",
    "y = polyfitdf['Stress(MPa)']\n",
    "youngs = np.polyfit(x, y, 1)\n",
    "print(youngs)"
   ]
  },
  {
   "cell_type": "code",
   "execution_count": null,
   "metadata": {},
   "outputs": [],
   "source": [
    "#169.000 GPa"
   ]
  }
 ],
 "metadata": {
  "kernelspec": {
   "display_name": "Python 3",
   "language": "python",
   "name": "python3"
  },
  "language_info": {
   "codemirror_mode": {
    "name": "ipython",
    "version": 3
   },
   "file_extension": ".py",
   "mimetype": "text/x-python",
   "name": "python",
   "nbconvert_exporter": "python",
   "pygments_lexer": "ipython3",
   "version": "3.9.6"
  }
 },
 "nbformat": 4,
 "nbformat_minor": 2
}
